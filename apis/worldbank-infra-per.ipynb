{
 "cells": [
  {
   "cell_type": "code",
   "execution_count": null,
   "metadata": {},
   "outputs": [],
   "source": [
    "# 필수 라이브러리 임포트\n",
    "import pandas as pd\n",
    "import pandas_datareader.wb as wb\n",
    "import matplotlib.pyplot as plt\n",
    "import seaborn as sns\n",
    "from sklearn.preprocessing import StandardScaler\n",
    "import numpy as np\n",
    "\n",
    "# 분석 기간 설정 (2000-2024)\n",
    "START_YEAR = 2000\n",
    "END_YEAR = 2024\n"
   ]
  },
  {
   "cell_type": "code",
   "execution_count": null,
   "metadata": {},
   "outputs": [],
   "source": [
    "# # # 세계은행 데이터 수집\n",
    "# # indicators = {\n",
    "# #     # 'EG.ELC.ACCS.ZS': 'Electricity_Access',\n",
    "# #     # 'IT.CEL.SETS.P2': 'Mobile_Subscriptions',\n",
    "# #     # 'IT.NET.USER.ZS': 'Internet_Users',\n",
    "# #     'IS.RRS.TOTL.KM': 'Railway_Length',\n",
    "# #     'NY.GDP.MKTP.KD.ZG': 'GDP_Growth'\n",
    "# # }\n",
    "\n",
    "# # df = wb.download(indicator=list(indicators.keys()), \n",
    "# #                 country = ['UKR', 'RUS', 'AFG', 'IRQ', 'ISR', 'PSE', 'SYR', 'MLI'], \n",
    "# #                 start=START_YEAR, \n",
    "# #                 end=END_YEAR).reset_index()\n",
    "\n",
    "# # # 컬럼명 변경 및 전처리\n",
    "# # df = df.rename(columns=indicators)\n",
    "# # df['Year'] = df['year'].astype(int)\n",
    "# # df = df.dropna().set_index('Year')\n",
    "\n",
    "import pandas as pd\n",
    "import pandas_datareader.wb as wb\n",
    "import time\n",
    "\n",
    "# 세계은행 데이터 수집\n",
    "indicators = {\n",
    "    # 'EG.ELC.ACCS.ZS': 'Electricity_Access',\n",
    "    # 'IT.CEL.SETS.P2': 'Mobile_Subscriptions',\n",
    "    # 'IT.NET.USER.ZS': 'Internet_Users',\n",
    "    # 'IS.RRS.TOTL.KM': 'Railway_Length',\n",
    "    'NY.GDP.MKTP.KD.ZG': 'GDP_Growth'\n",
    "}\n",
    "\n",
    "countries = ['UKR', 'RUS', 'AFG', 'IRQ', 'ISR', 'PSE', 'SYR', 'MLI']\n",
    "\n",
    "# 데이터프레임을 저장할 리스트\n",
    "all_data = []\n",
    "\n",
    "# 국가를 작은 그룹으로 나누기\n",
    "country_groups = [countries[i:i+2] for i in range(0, len(countries), 2)]\n",
    "\n",
    "for country_group in country_groups:\n",
    "    try:\n",
    "        print(f\"데이터 요청 중: {country_group}\")\n",
    "        temp_df = wb.download(\n",
    "            indicator=list(indicators.keys()), \n",
    "            country=country_group, \n",
    "            start=START_YEAR, \n",
    "            end=END_YEAR\n",
    "        )\n",
    "        if not temp_df.empty:\n",
    "            all_data.append(temp_df)\n",
    "        # API 서버에 부담을 줄이기 위한 대기 시간\n",
    "        time.sleep(2)\n",
    "    except Exception as e:\n",
    "        print(f\"국가 {country_group}에 대한 데이터 요청 실패: {e}\")\n",
    "\n",
    "# 모든 데이터프레임 합치기\n",
    "if all_data:\n",
    "    df = pd.concat(all_data).reset_index()\n",
    "    # 컬럼명 변경 및 전처리\n",
    "    df = df.rename(columns=indicators)\n",
    "    print(\"데이터 수집 완료!\")\n",
    "else:\n",
    "    print(\"데이터를 가져오지 못했습니다.\")\n"
   ]
  },
  {
   "cell_type": "code",
   "execution_count": null,
   "metadata": {},
   "outputs": [],
   "source": [
    "df"
   ]
  },
  {
   "cell_type": "code",
   "execution_count": null,
   "metadata": {},
   "outputs": [],
   "source": [
    "df = df.drop('country', axis=1)"
   ]
  },
  {
   "cell_type": "code",
   "execution_count": null,
   "metadata": {},
   "outputs": [],
   "source": [
    "# 복구 비용 계산\n",
    "df['Recovery_Cost_Index'] = (\n",
    "    (df['GDP_Growth']/100 * df['Mobile_Subscriptions']) + \n",
    "    (df['Electricity_Access'] * df['Railway_Length'])\n",
    ")\n",
    "\n",
    "# 데이터 정규화\n",
    "scaler = StandardScaler()\n",
    "df_scaled = pd.DataFrame(scaler.fit_transform(df), \n",
    "                        columns=df.columns, \n",
    "                        index=df.index)\n"
   ]
  },
  {
   "cell_type": "code",
   "execution_count": null,
   "metadata": {},
   "outputs": [],
   "source": [
    "plt.figure(figsize=(10,6))\n",
    "sns.heatmap(df.corr(), annot=True, cmap='coolwarm', fmt=\".2f\")\n",
    "plt.title('Infrastructure Indicators Correlation Analysis for Iraq (2003-2023)')\n",
    "plt.show()"
   ]
  },
  {
   "cell_type": "code",
   "execution_count": null,
   "metadata": {},
   "outputs": [],
   "source": [
    "fig, axes = plt.subplots(3, 1, figsize=(12, 12))\n",
    "\n",
    "# Electricity Access vs Recovery Cost\n",
    "axes[0].plot(df.index, df['Electricity_Access'], label='Electricity Access')\n",
    "axes[0].plot(df.index, df['Recovery_Cost_Index'], label='Recovery Cost Index')\n",
    "axes[0].set_title('Energy Infrastructure Recovery Trends')\n",
    "\n",
    "# Mobile Subscriptions vs GDP Growth\n",
    "axes[1].scatter(df['Mobile_Subscriptions'], df['GDP_Growth'], \n",
    "               c=df.index, cmap='viridis')\n",
    "axes[1].set_xlabel('Mobile Subscriptions per 100 people')\n",
    "axes[1].set_ylabel('GDP Growth (%)')\n",
    "\n",
    "# Railway Infrastructure Investment Effect\n",
    "axes[2].bar(df.index, df['Railway_Length'], \n",
    "           color=np.where(df['Railway_Length']>0, 'green', 'red'))\n",
    "axes[2].set_title('Annual Railway Infrastructure Expansion')\n",
    "\n",
    "plt.tight_layout()\n",
    "plt.show()\n"
   ]
  },
  {
   "cell_type": "code",
   "execution_count": null,
   "metadata": {},
   "outputs": [],
   "source": []
  }
 ],
 "metadata": {
  "kernelspec": {
   "display_name": "Python 3",
   "language": "python",
   "name": "python3"
  },
  "language_info": {
   "codemirror_mode": {
    "name": "ipython",
    "version": 3
   },
   "file_extension": ".py",
   "mimetype": "text/x-python",
   "name": "python",
   "nbconvert_exporter": "python",
   "pygments_lexer": "ipython3",
   "version": "3.8.10"
  }
 },
 "nbformat": 4,
 "nbformat_minor": 2
}
