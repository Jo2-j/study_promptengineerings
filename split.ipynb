{
 "cells": [
  {
   "cell_type": "code",
   "execution_count": null,
   "metadata": {},
   "outputs": [],
   "source": [
    "# KoNLPy 설치가 필요합니다. 설치되지 않았다면 아래 명령어로 설치하세요.\n",
    "\n",
    "from konlpy.tag import Okt\n",
    "\n",
    "# Okt 형태소 분석기 객체 생성\n",
    "okt = Okt()\n",
    "\n",
    "# 분석할 문장1\n",
    "sentence = \"안녕하세요. 저는 파이썬을 공부하는 학생입니다.\"\n",
    "\n",
    "# 형태소 분석\n",
    "morphs = okt.morphs(sentence)\n",
    "\n",
    "# 결과 출력\n",
    "print(\"형태소:\", morphs)\n",
    "\n",
    "# 품사 태깅\n",
    "pos = okt.pos(sentence)\n",
    "print(\"품사 태깅:\", pos)\n",
    "\n",
    "# 명사 추출\n",
    "nouns = okt.nouns(sentence)\n",
    "print(\"명사:\", nouns)\n"
   ]
  },
  {
   "cell_type": "code",
   "execution_count": null,
   "metadata": {},
   "outputs": [],
   "source": []
  }
 ],
 "metadata": {
  "kernelspec": {
   "display_name": "Python 3",
   "language": "python",
   "name": "python3"
  },
  "language_info": {
   "codemirror_mode": {
    "name": "ipython",
    "version": 3
   },
   "file_extension": ".py",
   "mimetype": "text/x-python",
   "name": "python",
   "nbconvert_exporter": "python",
   "pygments_lexer": "ipython3",
   "version": "3.8.10"
  }
 },
 "nbformat": 4,
 "nbformat_minor": 2
}
