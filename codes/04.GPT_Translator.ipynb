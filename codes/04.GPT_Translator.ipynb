{
 "cells": [
  {
   "cell_type": "markdown",
   "metadata": {
    "vscode": {
     "languageId": "plaintext"
    }
   },
   "source": [
    "## GPT App 작성 : 번역 기능\n",
    "- 영문 -> 한글로 번역"
   ]
  },
  {
   "cell_type": "markdown",
   "metadata": {},
   "source": [
    "# 대상 문장\n",
    "```\n",
    "William Shakespeare was an English playwright, poet and actor. He is widely regarded as the greatest writer in the English language and the world's pre-eminent dramatist.\n",
    "```"
   ]
  },
  {
   "cell_type": "markdown",
   "metadata": {},
   "source": [
    "### 프롬프트 지시 방식(CoT 방식 사용)\n",
    "\n",
    "- 역할 지정 : 특정 직군, 연령, 업무 지정\n",
    "- 순서 지정 : 업무 처리 순서를 만듬 - > 코드 Flow 작성\n",
    "- 출력 지정 : 텍스트, 이미지, 코드\n"
   ]
  },
  {
   "cell_type": "markdown",
   "metadata": {},
   "source": [
    "if 문장 영문\n",
    "    한글로 번역\n",
    "else \n",
    "    영문 아님\n",
    "\n",
    "- 역할과 출력 지정\n",
    "너는 번역 전문가이며, 반환 결과는 반드시 json 데이터로 작성해야 한다.\n",
    "\n",
    "\n",
    "- 순서 지정\n",
    "    STEP 순서 맞게 작업 수행하고 결과는 아래 JSON 포맷으로 작성\n",
    "    + STEP-1 : 텍스트를 원문 그대로 읽어옴\n",
    "    + STEP-2 : 영문인지 확인 > 영어가 아니라면 False로 표기하고 종료, 영어라면 STEP-3 진행\n",
    "    + STEP-3 : 다음 말투로 한글로 번역할 것 : [\"지구 나이는 45억 살입니다.\"]\n",
    "\n",
    "```{text}```\n",
    "---\n",
    "결과 : {{STEP-1: <입력텍스트>,\n",
    "    STEP-2: <True/False>,\n",
    "    STEP-3: <번역결과>}}\n",
    "---\n",
    "---"
   ]
  }
 ],
 "metadata": {
  "kernelspec": {
   "display_name": "Python 3",
   "language": "python",
   "name": "python3"
  },
  "language_info": {
   "name": "python",
   "version": "3.11.5"
  }
 },
 "nbformat": 4,
 "nbformat_minor": 2
}
