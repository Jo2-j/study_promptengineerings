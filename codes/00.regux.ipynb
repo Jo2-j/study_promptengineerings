{
 "cells": [
  {
   "cell_type": "markdown",
   "metadata": {},
   "source": [
    "### 숫자만 추출"
   ]
  },
  {
   "cell_type": "code",
   "execution_count": 17,
   "metadata": {},
   "outputs": [],
   "source": [
    "import re\n",
    "\n",
    "# 숫자 대상\n",
    "# text = \"I have 2 apples and 15 oranges.\"\n",
    "# re.findall(pattern=r\"\\d+\", string=text)\n",
    "\n",
    "# 문자 대상\n",
    "text = \"I love Python because python is easy to learn.\"\n",
    "# pattern=r\"[pP]ython\"\n",
    "\n",
    "pattern  = r\"python\"\n",
    "\n",
    "matches = re.findall(pattern=pattern, string=text, flags=re.IGNORECASE)\n",
    "\n",
    "# d digits"
   ]
  },
  {
   "cell_type": "code",
   "execution_count": 18,
   "metadata": {},
   "outputs": [
    {
     "data": {
      "text/plain": [
       "(list, 2, ['Python', 'python'])"
      ]
     },
     "execution_count": 18,
     "metadata": {},
     "output_type": "execute_result"
    }
   ],
   "source": [
    "type(matches), len(matches), matches"
   ]
  },
  {
   "cell_type": "markdown",
   "metadata": {},
   "source": [
    "### 치환"
   ]
  },
  {
   "cell_type": "code",
   "execution_count": 19,
   "metadata": {},
   "outputs": [],
   "source": [
    "text = \"Hello, world! How's it going?\"\n",
    "\n",
    "pattern = r\"[^\\w\\d\\s]\"\n",
    "\n",
    "cleaned_text = re.sub(pattern=pattern, repl=\"\", string=text)"
   ]
  },
  {
   "cell_type": "code",
   "execution_count": 20,
   "metadata": {},
   "outputs": [
    {
     "data": {
      "text/plain": [
       "(str, 'Hello world Hows it going')"
      ]
     },
     "execution_count": 20,
     "metadata": {},
     "output_type": "execute_result"
    }
   ],
   "source": [
    "type(cleaned_text), cleaned_text"
   ]
  },
  {
   "cell_type": "markdown",
   "metadata": {},
   "source": [
    "### Replace로 출력 순서를 조절"
   ]
  },
  {
   "cell_type": "code",
   "execution_count": 21,
   "metadata": {},
   "outputs": [],
   "source": [
    "# \\d{4}-\\d{2}-\\d{2} = (\\d{4})-(\\d{2})-(\\d{2})  {}안에 숫자만큼 안채워져 있으면 버린다\n",
    "\n",
    "# text = \"The event is scheduled on 2025-01-21.\"\n",
    "\n",
    "# text = \"The event is scheduled on 2025-1-1.\"\n",
    "\n",
    "# text = \"The event is scheduled on 2024-02-21.\"\n",
    "\n",
    "text = \"The event is scheduled on 2025-01-21.\"\n",
    "\n",
    "pattern = r\"(\\d{4})-(\\d{2})-(\\d{2})\" # 1번째 그룹 2번째 그룹 3번째 그룹, 그룹별로 그룹 넘버링 ()는 group이고 넘버링 된다\n",
    "\n",
    "# replace_text = r\"\\3/\\2/1\" # \"/\"는 그룹을 사용하겠습니다 다른 뜻\n",
    "replace_text = r\"\\3?\\2!1\" # \"? !\"는 그룹을 사용하겠습니다 다른 뜻\n",
    "\n",
    "result_text = re.sub(pattern=pattern, repl=replace_text, string=text)\n"
   ]
  },
  {
   "cell_type": "code",
   "execution_count": 22,
   "metadata": {},
   "outputs": [
    {
     "data": {
      "text/plain": [
       "'The event is scheduled on 21?01!1.'"
      ]
     },
     "execution_count": 22,
     "metadata": {},
     "output_type": "execute_result"
    }
   ],
   "source": [
    "result_text"
   ]
  },
  {
   "cell_type": "markdown",
   "metadata": {},
   "source": [
    "### Search와 Group"
   ]
  },
  {
   "cell_type": "code",
   "execution_count": 25,
   "metadata": {},
   "outputs": [],
   "source": [
    "text = \"The event is scheduled on 2025-01-21.\"\n",
    "\n",
    "pattern = r\"(\\d{4})-(\\d{2})-(\\d{2})\" # 1번째 그룹 2번째 그룹 3번째 그룹, 그룹별로 그룹 넘버링 ()는 group이고 넘버링 된다 1, 2, 3\n",
    "\n",
    "matches = re.search(pattern=pattern, string=text)"
   ]
  },
  {
   "cell_type": "code",
   "execution_count": 28,
   "metadata": {},
   "outputs": [
    {
     "data": {
      "text/plain": [
       "('2025-01-21', '2025', '01', '21')"
      ]
     },
     "execution_count": 28,
     "metadata": {},
     "output_type": "execute_result"
    }
   ],
   "source": [
    "matches.group(0), matches.group(1), matches.group(2), matches.group(3)"
   ]
  },
  {
   "cell_type": "code",
   "execution_count": null,
   "metadata": {},
   "outputs": [],
   "source": []
  }
 ],
 "metadata": {
  "kernelspec": {
   "display_name": "Python 3",
   "language": "python",
   "name": "python3"
  },
  "language_info": {
   "codemirror_mode": {
    "name": "ipython",
    "version": 3
   },
   "file_extension": ".py",
   "mimetype": "text/x-python",
   "name": "python",
   "nbconvert_exporter": "python",
   "pygments_lexer": "ipython3",
   "version": "3.8.10"
  }
 },
 "nbformat": 4,
 "nbformat_minor": 2
}
