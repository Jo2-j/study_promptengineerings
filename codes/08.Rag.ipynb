{
 "cells": [
  {
   "cell_type": "markdown",
   "metadata": {},
   "source": [
    "## RAG (Retrieval-Augmented Generation)\n",
    "\n",
    "- 외부 지식 베이스 정보 활용하는 기법\n",
    "- 최근, 오늘\n"
   ]
  }
 ],
 "metadata": {
  "language_info": {
   "name": "python"
  }
 },
 "nbformat": 4,
 "nbformat_minor": 2
}
