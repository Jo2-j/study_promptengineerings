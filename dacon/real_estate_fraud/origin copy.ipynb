{
 "cells": [
  {
   "cell_type": "code",
   "execution_count": null,
   "metadata": {},
   "outputs": [],
   "source": [
    "import pandas as pd\n",
    "import numpy as np\n",
    "import matplotlib.pyplot as plt\n",
    "import seaborn as sns\n",
    "from matplotlib import font_manager, rc\n",
    "import warnings\n",
    "from sklearn.preprocessing import LabelEncoder, OneHotEncoder\n",
    "from sklearn.model_selection import StratifiedKFold\n",
    "import lightgbm as lgb\n",
    "from sklearn.metrics import f1_score, confusion_matrix\n",
    "import math"
   ]
  },
  {
   "cell_type": "code",
   "execution_count": null,
   "metadata": {},
   "outputs": [],
   "source": [
    "# 경고 메시지 무시\n",
    "warnings.filterwarnings('ignore')\n",
    "\n",
    "# 한글 폰트 설정\n",
    "font_path = \"/usr/share/fonts/truetype/nanum/NanumGothic.ttf\"\n",
    "fontprop = font_manager.FontProperties(fname=font_path)\n",
    "rc('font', family=fontprop.get_name())"
   ]
  },
  {
   "cell_type": "code",
   "execution_count": null,
   "metadata": {},
   "outputs": [],
   "source": [
    "# 1. 데이터 로드\n",
    "train = pd.read_csv('/apps/study_promptengineerings/dacon/real_estate_fraud/train.csv')\n",
    "test = pd.read_csv('/apps/study_promptengineerings/dacon/real_estate_fraud/test.csv')\n",
    "\n",
    "# ID 매핑 저장 및 컬럼 제거\n",
    "id_mapping = pd.Series(test['ID'].values, index=test.index)\n",
    "train = train.drop('ID', axis=1)\n",
    "test = test.drop('ID', axis=1)"
   ]
  },
  {
   "cell_type": "code",
   "execution_count": null,
   "metadata": {},
   "outputs": [],
   "source": [
    "train.isnull().sum()"
   ]
  },
  {
   "cell_type": "code",
   "execution_count": null,
   "metadata": {},
   "outputs": [],
   "source": [
    "test.isnull().sum()"
   ]
  },
  {
   "cell_type": "markdown",
   "metadata": {},
   "source": [
    "## 결측치"
   ]
  },
  {
   "cell_type": "code",
   "execution_count": null,
   "metadata": {},
   "outputs": [],
   "source": [
    "# 2.1 총층 처리\n",
    "train['총층'] = train['총층'].fillna(train['총층'].median())\n",
    "test['총층'] = test['총층'].fillna(test['총층'].median())\n",
    "\n",
    "# 2.2 욕실수 처리\n",
    "train['욕실수'] = train['욕실수'].fillna(train.groupby('방수')['욕실수'].transform('median'))\n",
    "test['욕실수'] = test['욕실수'].fillna(test.groupby('방수')['욕실수'].transform('median'))\n",
    "train['욕실수'] = train['욕실수'].fillna(train['욕실수'].median())\n",
    "test['욕실수'] = test['욕실수'].fillna(test['욕실수'].median())\n",
    "\n",
    "# 2.3 해당층 처리\n",
    "train['해당층'] = train['해당층'].fillna(train['해당층'].median())\n",
    "test['해당층'] = test['해당층'].fillna(test['해당층'].median())\n",
    "\n",
    "# 2.4 전용면적 처리\n",
    "train['전용면적'] = train['전용면적'].fillna(train.groupby(['방수', '욕실수'])['전용면적'].transform('median'))\n",
    "test['전용면적'] = test['전용면적'].fillna(test.groupby(['방수', '욕실수'])['전용면적'].transform('median'))\n",
    "train['전용면적'] = train['전용면적'].fillna(train['전용면적'].median())\n",
    "test['전용면적'] = test['전용면적'].fillna(test['전용면적'].median())\n",
    "\n",
    "# 2.5 총주차대수 처리\n",
    "train.loc[train['주차가능여부'] == '불가능', '총주차대수'] = train.loc[train['주차가능여부'] == '불가능', '총주차대수'].fillna(0)\n",
    "test.loc[test['주차가능여부'] == '불가능', '총주차대수'] = test.loc[test['주차가능여부'] == '불가능', '총주차대수'].fillna(0)\n",
    "\n",
    "train.loc[train['주차가능여부'] == '가능', '총주차대수'] = train.loc[train['주차가능여부'] == '가능', '총주차대수'].fillna(\n",
    "    train.loc[train['주차가능여부'] == '가능', '총주차대수'].median())\n",
    "test.loc[test['주차가능여부'] == '가능', '총주차대수'] = test.loc[test['주차가능여부'] == '가능', '총주차대수'].fillna(\n",
    "    test.loc[test['주차가능여부'] == '가능', '총주차대수'].median())"
   ]
  },
  {
   "cell_type": "markdown",
   "metadata": {},
   "source": [
    "## 인코딩 (범주형)"
   ]
  },
  {
   "cell_type": "code",
   "execution_count": null,
   "metadata": {},
   "outputs": [],
   "source": [
    "# 라벨 인코딩\n",
    "label_cols = ['중개사무소', '게재일', '제공플랫폼', '방향']\n",
    "for col in label_cols:\n",
    "    le = LabelEncoder()\n",
    "    combined_data = pd.concat([train[col], test[col]], axis=0).astype(str)\n",
    "    le.fit(combined_data)\n",
    "    train[col] = le.transform(train[col].astype(str))\n",
    "    test[col] = le.transform(test[col].astype(str))\n",
    "\n",
    "# 원-핫 인코딩\n",
    "onehot_cols = ['매물확인방식', '주차가능여부']\n",
    "onehot = OneHotEncoder(sparse=False, handle_unknown='ignore')\n",
    "\n",
    "# 피처 이름 생성\n",
    "feature_names = []\n",
    "for col in onehot_cols:\n",
    "    unique_vals = pd.concat([train[col], test[col]]).unique()\n",
    "    feature_names.extend([f\"{col}_{val}\" for val in unique_vals])\n",
    "\n",
    "# 인코딩 적용\n",
    "train_encoded = onehot.fit_transform(train[onehot_cols])\n",
    "test_encoded = onehot.transform(test[onehot_cols])\n",
    "\n",
    "# 데이터프레임 결합\n",
    "train = pd.concat([\n",
    "    train.drop(columns=onehot_cols),\n",
    "    pd.DataFrame(train_encoded, index=train.index, columns=feature_names)\n",
    "], axis=1)\n",
    "\n",
    "test = pd.concat([\n",
    "    test.drop(columns=onehot_cols),\n",
    "    pd.DataFrame(test_encoded, index=test.index, columns=feature_names)\n",
    "], axis=1)"
   ]
  },
  {
   "cell_type": "markdown",
   "metadata": {},
   "source": [
    "## 가중치"
   ]
  },
  {
   "cell_type": "code",
   "execution_count": null,
   "metadata": {},
   "outputs": [],
   "source": [
    "X = train.drop('허위매물여부', axis=1)\n",
    "y = train['허위매물여부']\n",
    "\n",
    "class_weights = dict(zip(\n",
    "    np.unique(y),\n",
    "    1 / np.bincount(y) * len(y) / 2\n",
    "))"
   ]
  },
  {
   "cell_type": "markdown",
   "metadata": {},
   "source": [
    "## 모델 학습"
   ]
  },
  {
   "cell_type": "code",
   "execution_count": null,
   "metadata": {},
   "outputs": [],
   "source": [
    "params = {\n",
    "    'objective': 'binary',\n",
    "    'boosting_type': 'gbdt',\n",
    "    'num_leaves': 25,\n",
    "    'learning_rate': 0.05,\n",
    "    'seed': 42,\n",
    "    'metric': 'binary_logloss',\n",
    "    'n_estimators': 1000,\n",
    "    'subsample': 0.8,\n",
    "    'colsample_bytree': 0.9,\n",
    "    'reg_alpha': 0.1,\n",
    "    'reg_lambda': 0.1,\n",
    "    'min_child_samples': 5,\n",
    "    'scale_pos_weight': class_weights[1]/class_weights[0]  # 클래스 불균형 처리\n",
    "}\n",
    "\n",
    "# 교차 검증 설정\n",
    "skf = StratifiedKFold(n_splits=5, shuffle=True, random_state=42)\n",
    "oof_preds = np.zeros(len(X))\n",
    "test_preds = np.zeros(len(test))\n",
    "\n",
    "# 모델 학습\n",
    "for fold, (train_idx, val_idx) in enumerate(skf.split(X, y)):\n",
    "    print(f\"Training fold {fold + 1}/5\")\n",
    "\n",
    "    X_train, X_val = X.iloc[train_idx], X.iloc[val_idx]\n",
    "    y_train, y_val = y.iloc[train_idx], y.iloc[val_idx]\n",
    "\n",
    "    train_data = lgb.Dataset(X_train, label=y_train)\n",
    "    val_data = lgb.Dataset(X_val, label=y_val)\n",
    "\n",
    "    model = lgb.train(\n",
    "        params,\n",
    "        train_data,\n",
    "        valid_sets=[val_data],\n",
    "        num_boost_round=1000,\n",
    "        callbacks=[\n",
    "            lgb.early_stopping(stopping_rounds=50),\n",
    "            lgb.log_evaluation(period=100)\n",
    "        ]\n",
    "    )\n",
    "\n",
    "    oof_preds[val_idx] = model.predict(X_val)\n",
    "    test_preds += model.predict(test) / skf.n_splits"
   ]
  },
  {
   "cell_type": "markdown",
   "metadata": {},
   "source": [
    "## 평가 및 시각화"
   ]
  },
  {
   "cell_type": "code",
   "execution_count": null,
   "metadata": {},
   "outputs": [],
   "source": [
    "# 모델 평가\n",
    "oof_preds_binary = (oof_preds > 0.5).astype(int)\n",
    "f1 = f1_score(y, oof_preds_binary, average='macro')\n",
    "print(f\"\\nOOF F1 Score: {f1:.4f}\")\n",
    "\n",
    "# 혼동 행렬 시각화\n",
    "plt.figure(figsize=(8, 6))\n",
    "cm = confusion_matrix(y, oof_preds_binary)\n",
    "sns.heatmap(cm, annot=True, fmt='d', cmap='Blues')\n",
    "plt.title(\"Confusion Matrix\")\n",
    "plt.xlabel(\"Predicted\")\n",
    "plt.ylabel(\"Actual\")\n",
    "plt.show()"
   ]
  },
  {
   "cell_type": "markdown",
   "metadata": {},
   "source": [
    "## 제출 파일"
   ]
  },
  {
   "cell_type": "code",
   "execution_count": null,
   "metadata": {},
   "outputs": [],
   "source": [
    "test_preds_binary = (test_preds > 0.5).astype(int)\n",
    "submission = pd.DataFrame({\n",
    "    'ID': id_mapping,\n",
    "    '허위매물여부': test_preds_binary\n",
    "})\n",
    "submission.to_csv('submission.csv', index=False)"
   ]
  }
 ],
 "metadata": {
  "kernelspec": {
   "display_name": "Python 3",
   "language": "python",
   "name": "python3"
  },
  "language_info": {
   "codemirror_mode": {
    "name": "ipython",
    "version": 3
   },
   "file_extension": ".py",
   "mimetype": "text/x-python",
   "name": "python",
   "nbconvert_exporter": "python",
   "pygments_lexer": "ipython3",
   "version": "3.8.10"
  }
 },
 "nbformat": 4,
 "nbformat_minor": 2
}
