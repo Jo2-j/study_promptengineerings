    model = lgb.train(
        params,
        train_data,
        valid_sets=[val_data],
        feval=f1_metric,
        num_boost_round=1000,
        callbacks=[
            lgb.early_stopping(stopping_rounds=50),
            lgb.log_evaluation(period=100)
        ]
    )